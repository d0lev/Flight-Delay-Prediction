{
 "cells": [
  {
   "cell_type": "code",
   "execution_count": null,
   "id": "71f3685b",
   "metadata": {
    "scrolled": true
   },
   "outputs": [],
   "source": [
    "!pip install folium\n",
    "!pip install IPython\n",
    "\n",
    "import pandas as pd\n",
    "import numpy as np\n",
    "import matplotlib.pyplot as plt\n",
    "import matplotlib as mpl\n",
    "import seaborn as sns\n",
    "import datetime\n",
    "from IPython.display import HTML, display"
   ]
  },
  {
   "cell_type": "markdown",
   "id": "a747ac2a",
   "metadata": {},
   "source": [
    "# Exploratory data analysis\n",
    "    After performing the pre-processing in the data set, I want to do research on the data and answer the following questions :\n",
    "  \n",
    "  **1 . At which airports were the most flight delays made?**\n",
    "  \n",
    "       for this question, I've used the airport's dataset that represents the geographic location of each airport,\n",
    "       And then I demonstrate the airports with the most flight delayed amount on the bubble map.\n",
    "       the more big bubble the more flights are delayed.\n"
   ]
  },
  {
   "cell_type": "code",
   "execution_count": 3,
   "id": "81c211cf",
   "metadata": {},
   "outputs": [
    {
     "data": {
      "text/html": [
       "<div>\n",
       "<style scoped>\n",
       "    .dataframe tbody tr th:only-of-type {\n",
       "        vertical-align: middle;\n",
       "    }\n",
       "\n",
       "    .dataframe tbody tr th {\n",
       "        vertical-align: top;\n",
       "    }\n",
       "\n",
       "    .dataframe thead th {\n",
       "        text-align: right;\n",
       "    }\n",
       "</style>\n",
       "<table border=\"1\" class=\"dataframe\">\n",
       "  <thead>\n",
       "    <tr style=\"text-align: right;\">\n",
       "      <th></th>\n",
       "      <th>Day</th>\n",
       "      <th>Month</th>\n",
       "      <th>Airline</th>\n",
       "      <th>Origin</th>\n",
       "      <th>Destination</th>\n",
       "      <th>Scheduled Departure</th>\n",
       "      <th>Departure Time</th>\n",
       "      <th>Departure Delay</th>\n",
       "      <th>Scheduled Arrival</th>\n",
       "      <th>Arrival Time</th>\n",
       "      <th>Arrival Delay</th>\n",
       "      <th>Actual Time</th>\n",
       "      <th>Distance</th>\n",
       "      <th>Status</th>\n",
       "    </tr>\n",
       "  </thead>\n",
       "  <tbody>\n",
       "    <tr>\n",
       "      <th>0</th>\n",
       "      <td>27</td>\n",
       "      <td>2</td>\n",
       "      <td>Virgin America</td>\n",
       "      <td>San Francisco International Airport</td>\n",
       "      <td>McCarran International Airport</td>\n",
       "      <td>1205</td>\n",
       "      <td>1151.0</td>\n",
       "      <td>-14.0</td>\n",
       "      <td>1336</td>\n",
       "      <td>1325.0</td>\n",
       "      <td>-11.0</td>\n",
       "      <td>94.0</td>\n",
       "      <td>414.0</td>\n",
       "      <td>0</td>\n",
       "    </tr>\n",
       "    <tr>\n",
       "      <th>1</th>\n",
       "      <td>18</td>\n",
       "      <td>2</td>\n",
       "      <td>Virgin America</td>\n",
       "      <td>McCarran International Airport</td>\n",
       "      <td>San Francisco International Airport</td>\n",
       "      <td>730</td>\n",
       "      <td>719.0</td>\n",
       "      <td>-11.0</td>\n",
       "      <td>910</td>\n",
       "      <td>855.0</td>\n",
       "      <td>-15.0</td>\n",
       "      <td>96.0</td>\n",
       "      <td>414.0</td>\n",
       "      <td>0</td>\n",
       "    </tr>\n",
       "    <tr>\n",
       "      <th>2</th>\n",
       "      <td>3</td>\n",
       "      <td>1</td>\n",
       "      <td>Virgin America</td>\n",
       "      <td>Gen. Edward Lawrence Logan International Airport</td>\n",
       "      <td>Los Angeles International Airport</td>\n",
       "      <td>900</td>\n",
       "      <td>906.0</td>\n",
       "      <td>6.0</td>\n",
       "      <td>1254</td>\n",
       "      <td>1240.0</td>\n",
       "      <td>-14.0</td>\n",
       "      <td>394.0</td>\n",
       "      <td>2611.0</td>\n",
       "      <td>0</td>\n",
       "    </tr>\n",
       "    <tr>\n",
       "      <th>3</th>\n",
       "      <td>1</td>\n",
       "      <td>3</td>\n",
       "      <td>Virgin America</td>\n",
       "      <td>San Francisco International Airport</td>\n",
       "      <td>Los Angeles International Airport</td>\n",
       "      <td>900</td>\n",
       "      <td>853.0</td>\n",
       "      <td>-7.0</td>\n",
       "      <td>1031</td>\n",
       "      <td>1030.0</td>\n",
       "      <td>-1.0</td>\n",
       "      <td>97.0</td>\n",
       "      <td>337.0</td>\n",
       "      <td>0</td>\n",
       "    </tr>\n",
       "  </tbody>\n",
       "</table>\n",
       "</div>"
      ],
      "text/plain": [
       "   Day  Month         Airline  \\\n",
       "0   27      2  Virgin America   \n",
       "1   18      2  Virgin America   \n",
       "2    3      1  Virgin America   \n",
       "3    1      3  Virgin America   \n",
       "\n",
       "                                             Origin  \\\n",
       "0               San Francisco International Airport   \n",
       "1                    McCarran International Airport   \n",
       "2  Gen. Edward Lawrence Logan International Airport   \n",
       "3               San Francisco International Airport   \n",
       "\n",
       "                           Destination  Scheduled Departure  Departure Time  \\\n",
       "0       McCarran International Airport                 1205          1151.0   \n",
       "1  San Francisco International Airport                  730           719.0   \n",
       "2    Los Angeles International Airport                  900           906.0   \n",
       "3    Los Angeles International Airport                  900           853.0   \n",
       "\n",
       "   Departure Delay  Scheduled Arrival  Arrival Time  Arrival Delay  \\\n",
       "0            -14.0               1336        1325.0          -11.0   \n",
       "1            -11.0                910         855.0          -15.0   \n",
       "2              6.0               1254        1240.0          -14.0   \n",
       "3             -7.0               1031        1030.0           -1.0   \n",
       "\n",
       "   Actual Time  Distance  Status  \n",
       "0         94.0     414.0       0  \n",
       "1         96.0     414.0       0  \n",
       "2        394.0    2611.0       0  \n",
       "3         97.0     337.0       0  "
      ]
     },
     "execution_count": 3,
     "metadata": {},
     "output_type": "execute_result"
    }
   ],
   "source": [
    "dataset = pd.read_csv(\"dataset.csv\")\n",
    "dataset.head(4)"
   ]
  },
  {
   "cell_type": "code",
   "execution_count": 4,
   "id": "344b9bb2",
   "metadata": {
    "scrolled": false
   },
   "outputs": [],
   "source": [
    "airports = pd.read_csv(\"airports.csv\")\n",
    "airports = airports.rename({\"AIRPORT\":\"Destination\"} , axis = \"columns\")\n",
    "df = dataset.groupby('Destination').Status.count().sort_values(ascending=False).to_frame().reset_index()\n",
    "mer = pd.merge(df, airports, on = 'Destination')\n",
    "mer = mer.dropna(axis = 0)"
   ]
  },
  {
   "cell_type": "code",
   "execution_count": null,
   "id": "1167f9da",
   "metadata": {
    "scrolled": true
   },
   "outputs": [],
   "source": [
    "# import the library\n",
    "import folium\n",
    "\n",
    "# Make an empty map\n",
    "m = folium.Map(location=[1,1], tiles=\"OpenStreetMap\", zoom_start=1)\n",
    "\n",
    "for i in range(0,len(mer)):\n",
    "   folium.Circle(\n",
    "      location=[mer.iloc[i]['LATITUDE'], mer.iloc[i]['LONGITUDE']],\n",
    "      popup=mer.iloc[i]['Destination'] + \"\\n Delayed Flights : \" + str(mer.iloc[i]['Status']) ,\n",
    "      radius=float(mer.iloc[i]['Status']) * 50,\n",
    "      color='crimson',\n",
    "      fill=True,\n",
    "      fill_color='crimson'\n",
    "   ).add_to(m)\n",
    "\n",
    "m.save(\"index.html\")\n",
    "m"
   ]
  },
  {
   "cell_type": "markdown",
   "id": "5a387e5a",
   "metadata": {},
   "source": [
    "     To see the geographic map that shows the distribution of delaying flights in Virgin America please click :\n",
    "     https://github.com/d0lev/Flight-Delay-Prediction/blob/master/map.png\n",
    "     As you can see : San Francisco International Airport have the most delayed flights : 4222\n",
    "\n",
    "     "
   ]
  },
  {
   "cell_type": "markdown",
   "id": "9083cd32",
   "metadata": {},
   "source": [
    "\n",
    " **2 . In which months should fly?**\n",
    " \n",
    "    For this question, I have order the data in such a way to describe to us which is the best month to fly,\n",
    "    that month will contain the lowest amount of late flights."
   ]
  },
  {
   "cell_type": "code",
   "execution_count": 17,
   "id": "449dbd8b",
   "metadata": {},
   "outputs": [
    {
     "data": {
      "image/png": "[encoded data removed]",
      "text/plain": [
       "<Figure size 1080x144 with 1 Axes>"
      ]
     },
     "metadata": {
      "needs_background": "light"
     },
     "output_type": "display_data"
    }
   ],
   "source": [
    "fig = plt.figure(1, figsize=(15,2))\n",
    "df = dataset.groupby('Month').Status.sum().sort_values(ascending=False).plot.bar(color  = '#990000', rot = 0 , subplots=True)\n",
    "plt.title('Number of delayed flights per month', fontsize= 14)\n",
    "plt.xlabel('\\n Month', fontsize = 14)\n",
    "plt.show()"
   ]
  },
  {
   "cell_type": "markdown",
   "id": "059687d4",
   "metadata": {},
   "source": [
    " **3 . In which day should fly?**\n",
    " \n",
    "    Once we have found the month with the minimum number of delays in landings, it remains to be seen on which day it is\n",
    "    worthwhile to fly in that month."
   ]
  },
  {
   "cell_type": "code",
   "execution_count": 18,
   "id": "ed1453ad",
   "metadata": {},
   "outputs": [
    {
     "data": {
      "image/png": "[encoded data removed]",
      "text/plain": [
       "<Figure size 1080x144 with 1 Axes>"
      ]
     },
     "metadata": {
      "needs_background": "light"
     },
     "output_type": "display_data"
    }
   ],
   "source": [
    "fig = plt.figure(1, figsize=(15,2))\n",
    "df = dataset[dataset['Month'] == 1]\n",
    "df = df.groupby('Day').Status.sum().sort_values(ascending=False).plot.bar(color  = '#990000', rot = 0 , subplots=True)\n",
    "plt.title('Number of delayed flights per day in January', fontsize= 15)\n",
    "plt.xlabel('\\n Day', fontsize = 14)\n",
    "plt.show()"
   ]
  },
  {
   "cell_type": "markdown",
   "id": "bd53474c",
   "metadata": {},
   "source": [
    " **4 . Does a delay in departure effects on delay in Arrival?**\n",
    " \n",
    "    For this question, I used a diagram that illustrates the differences between flight delays on departure and flight delays\n",
    "    on arrival according to Virgin America."
   ]
  },
  {
   "cell_type": "code",
   "execution_count": 19,
   "id": "c8e3af16",
   "metadata": {},
   "outputs": [
    {
     "data": {
      "image/png": "[encoded data removed]",
      "text/plain": [
       "<Figure size 1500x200 with 1 Axes>"
      ]
     },
     "metadata": {},
     "output_type": "display_data"
    }
   ],
   "source": [
    "mpl.rcParams.update(mpl.rcParamsDefault)\n",
    "mpl.rcParams['hatch.linewidth'] = 0.5\n",
    "\n",
    "fig = plt.figure(1, figsize=(15,2))\n",
    "ax = sns.barplot(x = \"Departure Delay\", y = \"Airline\", data = dataset, color= \"#990000\" , ci = None )\n",
    "ax = sns.barplot(x = \"Arrival Delay\", y= \"Airline\" , data = dataset , color= \"#de7c7c\", alpha = 0.5, ci=None)\n",
    "ax.yaxis.label.set_visible(False)\n",
    "plt.plot(-1 , label = \"Departure Delay\" , color = '#990000')\n",
    "plt.plot(-1 , label = \"Arrival Delay\" , color = '#de7c7c')\n",
    "plt.title('Departure vs. Arrival Delay')\n",
    "plt.legend(loc=\"upper left\")\n",
    "plt.xlabel('Mean delay (min)', fontsize=14, labelpad = 5);"
   ]
  },
  {
   "cell_type": "markdown",
   "id": "c868fe32",
   "metadata": {},
   "source": [
    "    As can be seen from the diagram above, the number of delays in departure delay is much greater\n",
    "    than the number of delays in landings, it can be concluded that the alirline reduces airtime for flights that have delayed \n",
    "    on their departure to get on time."
   ]
  }
 ],
 "metadata": {
  "kernelspec": {
   "display_name": "Python 3 (ipykernel)",
   "language": "python",
   "name": "python3"
  },
  "language_info": {
   "codemirror_mode": {
    "name": "ipython",
    "version": 3
   },
   "file_extension": ".py",
   "mimetype": "text/x-python",
   "name": "python",
   "nbconvert_exporter": "python",
   "pygments_lexer": "ipython3",
   "version": "3.9.5"
  }
 },
 "nbformat": 4,
 "nbformat_minor": 5
}
