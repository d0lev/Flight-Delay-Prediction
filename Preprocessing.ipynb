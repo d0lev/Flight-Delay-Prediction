{
 "cells": [
  {
   "cell_type": "code",
   "execution_count": 1,
   "metadata": {
    "pycharm": {
     "name": "#%%\n"
    }
   },
   "outputs": [],
   "source": [
    "import pandas as pd\n",
    "import numpy as np\n",
    "import seaborn as sns"
   ]
  },
  {
   "cell_type": "code",
   "execution_count": 2,
   "metadata": {
    "pycharm": {
     "name": "#%%\n"
    }
   },
   "outputs": [],
   "source": [
    "data = pd.read_csv('2018.csv', index_col = 0)"
   ]
  },
  {
   "cell_type": "markdown",
   "metadata": {
    "pycharm": {
     "name": "#%% md\n"
    }
   },
   "source": [
    "# Pre Processing\n",
    "    In this notebook, I will detail some of the methods I performed for preparing the data set for training by ML algorithms.\n",
    "    \n",
    "    1. Handling missing values :\n",
    "        There are examples in the data set that contain null values and entire columns that contain null values,\n",
    "        so we would prefer to remove them."
   ]
  },
  {
   "cell_type": "code",
   "execution_count": 3,
   "metadata": {
    "pycharm": {
     "name": "#%%\n"
    }
   },
   "outputs": [],
   "source": [
    "num_of_samples = data.shape[0] ## 7,200,000\n",
    "missing = pd.Series(data.isna().sum(), name = \"amount\").to_frame()\n",
    "## search for columns that contain at least 70 percent null values from the dataset\n",
    "missing_in_percentage = missing[(missing[\"amount\"] / num_of_samples) > 0.7]\n",
    "data.drop(missing_in_percentage.index.to_list() , inplace = True , axis = 1)"
   ]
  },
  {
   "cell_type": "code",
   "execution_count": 4,
   "metadata": {
    "pycharm": {
     "name": "#%%\n"
    }
   },
   "outputs": [
    {
     "name": "stdout",
     "output_type": "stream",
     "text": [
      "(7213446, 20)\n"
     ]
    },
    {
     "data": {
      "text/html": [
       "<div>\n",
       "<style scoped>\n",
       "    .dataframe tbody tr th:only-of-type {\n",
       "        vertical-align: middle;\n",
       "    }\n",
       "\n",
       "    .dataframe tbody tr th {\n",
       "        vertical-align: top;\n",
       "    }\n",
       "\n",
       "    .dataframe thead th {\n",
       "        text-align: right;\n",
       "    }\n",
       "</style>\n",
       "<table border=\"1\" class=\"dataframe\">\n",
       "  <thead>\n",
       "    <tr style=\"text-align: right;\">\n",
       "      <th></th>\n",
       "      <th>FL_DATE</th>\n",
       "      <th>OP_CARRIER</th>\n",
       "      <th>OP_CARRIER_FL_NUM</th>\n",
       "      <th>ORIGIN</th>\n",
       "      <th>DEST</th>\n",
       "      <th>CRS_DEP_TIME</th>\n",
       "      <th>DEP_TIME</th>\n",
       "      <th>DEP_DELAY</th>\n",
       "      <th>TAXI_OUT</th>\n",
       "      <th>WHEELS_OFF</th>\n",
       "      <th>...</th>\n",
       "      <th>TAXI_IN</th>\n",
       "      <th>CRS_ARR_TIME</th>\n",
       "      <th>ARR_TIME</th>\n",
       "      <th>ARR_DELAY</th>\n",
       "      <th>CANCELLED</th>\n",
       "      <th>DIVERTED</th>\n",
       "      <th>CRS_ELAPSED_TIME</th>\n",
       "      <th>ACTUAL_ELAPSED_TIME</th>\n",
       "      <th>AIR_TIME</th>\n",
       "      <th>DISTANCE</th>\n",
       "    </tr>\n",
       "  </thead>\n",
       "  <tbody>\n",
       "    <tr>\n",
       "      <th>0</th>\n",
       "      <td>2018-01-01</td>\n",
       "      <td>UA</td>\n",
       "      <td>2429</td>\n",
       "      <td>EWR</td>\n",
       "      <td>DEN</td>\n",
       "      <td>1517</td>\n",
       "      <td>1512.0</td>\n",
       "      <td>-5.0</td>\n",
       "      <td>15.0</td>\n",
       "      <td>1527.0</td>\n",
       "      <td>...</td>\n",
       "      <td>10.0</td>\n",
       "      <td>1745</td>\n",
       "      <td>1722.0</td>\n",
       "      <td>-23.0</td>\n",
       "      <td>0.0</td>\n",
       "      <td>0.0</td>\n",
       "      <td>268.0</td>\n",
       "      <td>250.0</td>\n",
       "      <td>225.0</td>\n",
       "      <td>1605.0</td>\n",
       "    </tr>\n",
       "    <tr>\n",
       "      <th>1</th>\n",
       "      <td>2018-01-01</td>\n",
       "      <td>UA</td>\n",
       "      <td>2427</td>\n",
       "      <td>LAS</td>\n",
       "      <td>SFO</td>\n",
       "      <td>1115</td>\n",
       "      <td>1107.0</td>\n",
       "      <td>-8.0</td>\n",
       "      <td>11.0</td>\n",
       "      <td>1118.0</td>\n",
       "      <td>...</td>\n",
       "      <td>7.0</td>\n",
       "      <td>1254</td>\n",
       "      <td>1230.0</td>\n",
       "      <td>-24.0</td>\n",
       "      <td>0.0</td>\n",
       "      <td>0.0</td>\n",
       "      <td>99.0</td>\n",
       "      <td>83.0</td>\n",
       "      <td>65.0</td>\n",
       "      <td>414.0</td>\n",
       "    </tr>\n",
       "    <tr>\n",
       "      <th>2</th>\n",
       "      <td>2018-01-01</td>\n",
       "      <td>UA</td>\n",
       "      <td>2426</td>\n",
       "      <td>SNA</td>\n",
       "      <td>DEN</td>\n",
       "      <td>1335</td>\n",
       "      <td>1330.0</td>\n",
       "      <td>-5.0</td>\n",
       "      <td>15.0</td>\n",
       "      <td>1345.0</td>\n",
       "      <td>...</td>\n",
       "      <td>5.0</td>\n",
       "      <td>1649</td>\n",
       "      <td>1636.0</td>\n",
       "      <td>-13.0</td>\n",
       "      <td>0.0</td>\n",
       "      <td>0.0</td>\n",
       "      <td>134.0</td>\n",
       "      <td>126.0</td>\n",
       "      <td>106.0</td>\n",
       "      <td>846.0</td>\n",
       "    </tr>\n",
       "    <tr>\n",
       "      <th>3</th>\n",
       "      <td>2018-01-01</td>\n",
       "      <td>UA</td>\n",
       "      <td>2425</td>\n",
       "      <td>RSW</td>\n",
       "      <td>ORD</td>\n",
       "      <td>1546</td>\n",
       "      <td>1552.0</td>\n",
       "      <td>6.0</td>\n",
       "      <td>19.0</td>\n",
       "      <td>1611.0</td>\n",
       "      <td>...</td>\n",
       "      <td>6.0</td>\n",
       "      <td>1756</td>\n",
       "      <td>1754.0</td>\n",
       "      <td>-2.0</td>\n",
       "      <td>0.0</td>\n",
       "      <td>0.0</td>\n",
       "      <td>190.0</td>\n",
       "      <td>182.0</td>\n",
       "      <td>157.0</td>\n",
       "      <td>1120.0</td>\n",
       "    </tr>\n",
       "    <tr>\n",
       "      <th>4</th>\n",
       "      <td>2018-01-01</td>\n",
       "      <td>UA</td>\n",
       "      <td>2424</td>\n",
       "      <td>ORD</td>\n",
       "      <td>ALB</td>\n",
       "      <td>630</td>\n",
       "      <td>650.0</td>\n",
       "      <td>20.0</td>\n",
       "      <td>13.0</td>\n",
       "      <td>703.0</td>\n",
       "      <td>...</td>\n",
       "      <td>10.0</td>\n",
       "      <td>922</td>\n",
       "      <td>936.0</td>\n",
       "      <td>14.0</td>\n",
       "      <td>0.0</td>\n",
       "      <td>0.0</td>\n",
       "      <td>112.0</td>\n",
       "      <td>106.0</td>\n",
       "      <td>83.0</td>\n",
       "      <td>723.0</td>\n",
       "    </tr>\n",
       "  </tbody>\n",
       "</table>\n",
       "<p>5 rows × 21 columns</p>\n",
       "</div>"
      ],
      "text/plain": [
       "      FL_DATE OP_CARRIER  OP_CARRIER_FL_NUM ORIGIN DEST  CRS_DEP_TIME  \\\n",
       "0  2018-01-01         UA               2429    EWR  DEN          1517   \n",
       "1  2018-01-01         UA               2427    LAS  SFO          1115   \n",
       "2  2018-01-01         UA               2426    SNA  DEN          1335   \n",
       "3  2018-01-01         UA               2425    RSW  ORD          1546   \n",
       "4  2018-01-01         UA               2424    ORD  ALB           630   \n",
       "\n",
       "   DEP_TIME  DEP_DELAY  TAXI_OUT  WHEELS_OFF  ...  TAXI_IN  CRS_ARR_TIME  \\\n",
       "0    1512.0       -5.0      15.0      1527.0  ...     10.0          1745   \n",
       "1    1107.0       -8.0      11.0      1118.0  ...      7.0          1254   \n",
       "2    1330.0       -5.0      15.0      1345.0  ...      5.0          1649   \n",
       "3    1552.0        6.0      19.0      1611.0  ...      6.0          1756   \n",
       "4     650.0       20.0      13.0       703.0  ...     10.0           922   \n",
       "\n",
       "   ARR_TIME  ARR_DELAY  CANCELLED  DIVERTED  CRS_ELAPSED_TIME  \\\n",
       "0    1722.0      -23.0        0.0       0.0             268.0   \n",
       "1    1230.0      -24.0        0.0       0.0              99.0   \n",
       "2    1636.0      -13.0        0.0       0.0             134.0   \n",
       "3    1754.0       -2.0        0.0       0.0             190.0   \n",
       "4     936.0       14.0        0.0       0.0             112.0   \n",
       "\n",
       "   ACTUAL_ELAPSED_TIME  AIR_TIME  DISTANCE  \n",
       "0                250.0     225.0    1605.0  \n",
       "1                 83.0      65.0     414.0  \n",
       "2                126.0     106.0     846.0  \n",
       "3                182.0     157.0    1120.0  \n",
       "4                106.0      83.0     723.0  \n",
       "\n",
       "[5 rows x 21 columns]"
      ]
     },
     "execution_count": 4,
     "metadata": {},
     "output_type": "execute_result"
    }
   ],
   "source": [
    "print(data.shape)\n",
    "data = data.reset_index()\n",
    "data.head(5)"
   ]
  },
  {
   "cell_type": "code",
   "execution_count": 5,
   "metadata": {
    "pycharm": {
     "name": "#%%\n"
    }
   },
   "outputs": [],
   "source": [
    "data = data.dropna()"
   ]
  },
  {
   "cell_type": "markdown",
   "metadata": {
    "pycharm": {
     "name": "#%% md\n"
    }
   },
   "source": [
    "    2. Features format change:\n",
    "        2.1 IATA codes:\n",
    "        Some features will be difficult to exploratory and analyze for example : dates and IATA codes\n",
    "        that describe the airlines,origin,and destination airports."
   ]
  },
  {
   "cell_type": "code",
   "execution_count": 6,
   "metadata": {
    "pycharm": {
     "name": "#%%\n"
    },
    "scrolled": true
   },
   "outputs": [],
   "source": [
    "airlines_codes = {'UA':'United Airlines', 'AS':'Alaska Airlines', '9E':'Endeavor Air', 'B6':'JetBlue Airways',\n",
    "                  'EV':'ExpressJet', 'F9':'Frontier Airlines', 'G4':'Allegiant Air', 'HA':'Hawaiian Airlines',\n",
    "                  'MQ':'Envoy Air', 'NK':'Spirit Airlines', 'OH':'PSA Airlines', 'OO':'SkyWest Airlines', 'VX':'Virgin America',\n",
    "                  'WN':'Southwest Airlines', 'YV':'Mesa Airline', 'YX':'Republic Airways', 'AA':'American Airlines', 'DL':'Delta Airlines'}\n",
    "data['OP_CARRIER'].replace(airlines_codes , inplace = True)\n",
    "data = data.rename(columns = {'OP_CARRIER' : \"Airline\"})"
   ]
  },
  {
   "cell_type": "code",
   "execution_count": 7,
   "metadata": {
    "pycharm": {
     "name": "#%%\n"
    }
   },
   "outputs": [],
   "source": [
    "airports_codes = pd.read_csv(\"airports.csv\")\n",
    "airports_dict = dict(zip(airports_codes.IATA_CODE, airports_codes.AIRPORT))\n",
    "data['ORIGIN'].replace(airports_dict , inplace = True)\n",
    "data = data[data['ORIGIN'].str.len() > 3]\n",
    "data['DEST'].replace(airports_dict , inplace = True)\n",
    "data = data[data['DEST'].str.len() > 3]"
   ]
  },
  {
   "cell_type": "code",
   "execution_count": 8,
   "metadata": {
    "pycharm": {
     "name": "#%%\n"
    }
   },
   "outputs": [
    {
     "data": {
      "text/html": [
       "<div>\n",
       "<style scoped>\n",
       "    .dataframe tbody tr th:only-of-type {\n",
       "        vertical-align: middle;\n",
       "    }\n",
       "\n",
       "    .dataframe tbody tr th {\n",
       "        vertical-align: top;\n",
       "    }\n",
       "\n",
       "    .dataframe thead th {\n",
       "        text-align: right;\n",
       "    }\n",
       "</style>\n",
       "<table border=\"1\" class=\"dataframe\">\n",
       "  <thead>\n",
       "    <tr style=\"text-align: right;\">\n",
       "      <th></th>\n",
       "      <th>FL_DATE</th>\n",
       "      <th>Airline</th>\n",
       "      <th>OP_CARRIER_FL_NUM</th>\n",
       "      <th>ORIGIN</th>\n",
       "      <th>DEST</th>\n",
       "      <th>CRS_DEP_TIME</th>\n",
       "      <th>DEP_TIME</th>\n",
       "      <th>DEP_DELAY</th>\n",
       "      <th>TAXI_OUT</th>\n",
       "      <th>WHEELS_OFF</th>\n",
       "      <th>...</th>\n",
       "      <th>TAXI_IN</th>\n",
       "      <th>CRS_ARR_TIME</th>\n",
       "      <th>ARR_TIME</th>\n",
       "      <th>ARR_DELAY</th>\n",
       "      <th>CANCELLED</th>\n",
       "      <th>DIVERTED</th>\n",
       "      <th>CRS_ELAPSED_TIME</th>\n",
       "      <th>ACTUAL_ELAPSED_TIME</th>\n",
       "      <th>AIR_TIME</th>\n",
       "      <th>DISTANCE</th>\n",
       "    </tr>\n",
       "  </thead>\n",
       "  <tbody>\n",
       "    <tr>\n",
       "      <th>0</th>\n",
       "      <td>2018-01-01</td>\n",
       "      <td>United Airlines</td>\n",
       "      <td>2429</td>\n",
       "      <td>Newark Liberty International Airport</td>\n",
       "      <td>Denver International Airport</td>\n",
       "      <td>1517</td>\n",
       "      <td>1512.0</td>\n",
       "      <td>-5.0</td>\n",
       "      <td>15.0</td>\n",
       "      <td>1527.0</td>\n",
       "      <td>...</td>\n",
       "      <td>10.0</td>\n",
       "      <td>1745</td>\n",
       "      <td>1722.0</td>\n",
       "      <td>-23.0</td>\n",
       "      <td>0.0</td>\n",
       "      <td>0.0</td>\n",
       "      <td>268.0</td>\n",
       "      <td>250.0</td>\n",
       "      <td>225.0</td>\n",
       "      <td>1605.0</td>\n",
       "    </tr>\n",
       "    <tr>\n",
       "      <th>1</th>\n",
       "      <td>2018-01-01</td>\n",
       "      <td>United Airlines</td>\n",
       "      <td>2427</td>\n",
       "      <td>McCarran International Airport</td>\n",
       "      <td>San Francisco International Airport</td>\n",
       "      <td>1115</td>\n",
       "      <td>1107.0</td>\n",
       "      <td>-8.0</td>\n",
       "      <td>11.0</td>\n",
       "      <td>1118.0</td>\n",
       "      <td>...</td>\n",
       "      <td>7.0</td>\n",
       "      <td>1254</td>\n",
       "      <td>1230.0</td>\n",
       "      <td>-24.0</td>\n",
       "      <td>0.0</td>\n",
       "      <td>0.0</td>\n",
       "      <td>99.0</td>\n",
       "      <td>83.0</td>\n",
       "      <td>65.0</td>\n",
       "      <td>414.0</td>\n",
       "    </tr>\n",
       "    <tr>\n",
       "      <th>2</th>\n",
       "      <td>2018-01-01</td>\n",
       "      <td>United Airlines</td>\n",
       "      <td>2426</td>\n",
       "      <td>John Wayne Airport (Orange County Airport)</td>\n",
       "      <td>Denver International Airport</td>\n",
       "      <td>1335</td>\n",
       "      <td>1330.0</td>\n",
       "      <td>-5.0</td>\n",
       "      <td>15.0</td>\n",
       "      <td>1345.0</td>\n",
       "      <td>...</td>\n",
       "      <td>5.0</td>\n",
       "      <td>1649</td>\n",
       "      <td>1636.0</td>\n",
       "      <td>-13.0</td>\n",
       "      <td>0.0</td>\n",
       "      <td>0.0</td>\n",
       "      <td>134.0</td>\n",
       "      <td>126.0</td>\n",
       "      <td>106.0</td>\n",
       "      <td>846.0</td>\n",
       "    </tr>\n",
       "    <tr>\n",
       "      <th>3</th>\n",
       "      <td>2018-01-01</td>\n",
       "      <td>United Airlines</td>\n",
       "      <td>2425</td>\n",
       "      <td>Southwest Florida International Airport</td>\n",
       "      <td>Chicago O'Hare International Airport</td>\n",
       "      <td>1546</td>\n",
       "      <td>1552.0</td>\n",
       "      <td>6.0</td>\n",
       "      <td>19.0</td>\n",
       "      <td>1611.0</td>\n",
       "      <td>...</td>\n",
       "      <td>6.0</td>\n",
       "      <td>1756</td>\n",
       "      <td>1754.0</td>\n",
       "      <td>-2.0</td>\n",
       "      <td>0.0</td>\n",
       "      <td>0.0</td>\n",
       "      <td>190.0</td>\n",
       "      <td>182.0</td>\n",
       "      <td>157.0</td>\n",
       "      <td>1120.0</td>\n",
       "    </tr>\n",
       "    <tr>\n",
       "      <th>4</th>\n",
       "      <td>2018-01-01</td>\n",
       "      <td>United Airlines</td>\n",
       "      <td>2424</td>\n",
       "      <td>Chicago O'Hare International Airport</td>\n",
       "      <td>Albany International Airport</td>\n",
       "      <td>630</td>\n",
       "      <td>650.0</td>\n",
       "      <td>20.0</td>\n",
       "      <td>13.0</td>\n",
       "      <td>703.0</td>\n",
       "      <td>...</td>\n",
       "      <td>10.0</td>\n",
       "      <td>922</td>\n",
       "      <td>936.0</td>\n",
       "      <td>14.0</td>\n",
       "      <td>0.0</td>\n",
       "      <td>0.0</td>\n",
       "      <td>112.0</td>\n",
       "      <td>106.0</td>\n",
       "      <td>83.0</td>\n",
       "      <td>723.0</td>\n",
       "    </tr>\n",
       "  </tbody>\n",
       "</table>\n",
       "<p>5 rows × 21 columns</p>\n",
       "</div>"
      ],
      "text/plain": [
       "      FL_DATE          Airline  OP_CARRIER_FL_NUM  \\\n",
       "0  2018-01-01  United Airlines               2429   \n",
       "1  2018-01-01  United Airlines               2427   \n",
       "2  2018-01-01  United Airlines               2426   \n",
       "3  2018-01-01  United Airlines               2425   \n",
       "4  2018-01-01  United Airlines               2424   \n",
       "\n",
       "                                       ORIGIN  \\\n",
       "0        Newark Liberty International Airport   \n",
       "1              McCarran International Airport   \n",
       "2  John Wayne Airport (Orange County Airport)   \n",
       "3     Southwest Florida International Airport   \n",
       "4        Chicago O'Hare International Airport   \n",
       "\n",
       "                                   DEST  CRS_DEP_TIME  DEP_TIME  DEP_DELAY  \\\n",
       "0          Denver International Airport          1517    1512.0       -5.0   \n",
       "1   San Francisco International Airport          1115    1107.0       -8.0   \n",
       "2          Denver International Airport          1335    1330.0       -5.0   \n",
       "3  Chicago O'Hare International Airport          1546    1552.0        6.0   \n",
       "4          Albany International Airport           630     650.0       20.0   \n",
       "\n",
       "   TAXI_OUT  WHEELS_OFF  ...  TAXI_IN  CRS_ARR_TIME  ARR_TIME  ARR_DELAY  \\\n",
       "0      15.0      1527.0  ...     10.0          1745    1722.0      -23.0   \n",
       "1      11.0      1118.0  ...      7.0          1254    1230.0      -24.0   \n",
       "2      15.0      1345.0  ...      5.0          1649    1636.0      -13.0   \n",
       "3      19.0      1611.0  ...      6.0          1756    1754.0       -2.0   \n",
       "4      13.0       703.0  ...     10.0           922     936.0       14.0   \n",
       "\n",
       "   CANCELLED  DIVERTED  CRS_ELAPSED_TIME  ACTUAL_ELAPSED_TIME  AIR_TIME  \\\n",
       "0        0.0       0.0             268.0                250.0     225.0   \n",
       "1        0.0       0.0              99.0                 83.0      65.0   \n",
       "2        0.0       0.0             134.0                126.0     106.0   \n",
       "3        0.0       0.0             190.0                182.0     157.0   \n",
       "4        0.0       0.0             112.0                106.0      83.0   \n",
       "\n",
       "   DISTANCE  \n",
       "0    1605.0  \n",
       "1     414.0  \n",
       "2     846.0  \n",
       "3    1120.0  \n",
       "4     723.0  \n",
       "\n",
       "[5 rows x 21 columns]"
      ]
     },
     "execution_count": 8,
     "metadata": {},
     "output_type": "execute_result"
    }
   ],
   "source": [
    "data.head(5)"
   ]
  },
  {
   "cell_type": "markdown",
   "metadata": {
    "pycharm": {
     "name": "#%% md\n"
    }
   },
   "source": [
    "        2.2 Dates:\n",
    "        To more conveniently exploratory and analyze the information on the various flights,\n",
    "        we will create two columns that will be the day and the month of the year."
   ]
  },
  {
   "cell_type": "code",
   "execution_count": 9,
   "metadata": {
    "pycharm": {
     "name": "#%%\n"
    }
   },
   "outputs": [],
   "source": [
    "days =  pd.DatetimeIndex(data['FL_DATE']).day\n",
    "months = pd.DatetimeIndex(data['FL_DATE']).month"
   ]
  },
  {
   "cell_type": "code",
   "execution_count": 12,
   "metadata": {
    "pycharm": {
     "name": "#%%\n"
    }
   },
   "outputs": [],
   "source": [
    "data.insert(0,\"Day\",days)\n",
    "data.insert(1,\"Month\",months)\n",
    "data.drop(['FL_DATE'] , inplace = True , axis = 1)"
   ]
  },
  {
   "cell_type": "code",
   "execution_count": 13,
   "metadata": {
    "pycharm": {
     "name": "#%%\n"
    }
   },
   "outputs": [
    {
     "data": {
      "text/html": [
       "<div>\n",
       "<style scoped>\n",
       "    .dataframe tbody tr th:only-of-type {\n",
       "        vertical-align: middle;\n",
       "    }\n",
       "\n",
       "    .dataframe tbody tr th {\n",
       "        vertical-align: top;\n",
       "    }\n",
       "\n",
       "    .dataframe thead th {\n",
       "        text-align: right;\n",
       "    }\n",
       "</style>\n",
       "<table border=\"1\" class=\"dataframe\">\n",
       "  <thead>\n",
       "    <tr style=\"text-align: right;\">\n",
       "      <th></th>\n",
       "      <th>Day</th>\n",
       "      <th>Month</th>\n",
       "      <th>Airline</th>\n",
       "      <th>OP_CARRIER_FL_NUM</th>\n",
       "      <th>ORIGIN</th>\n",
       "      <th>DEST</th>\n",
       "      <th>CRS_DEP_TIME</th>\n",
       "      <th>DEP_TIME</th>\n",
       "      <th>DEP_DELAY</th>\n",
       "      <th>TAXI_OUT</th>\n",
       "      <th>...</th>\n",
       "      <th>TAXI_IN</th>\n",
       "      <th>CRS_ARR_TIME</th>\n",
       "      <th>ARR_TIME</th>\n",
       "      <th>ARR_DELAY</th>\n",
       "      <th>CANCELLED</th>\n",
       "      <th>DIVERTED</th>\n",
       "      <th>CRS_ELAPSED_TIME</th>\n",
       "      <th>ACTUAL_ELAPSED_TIME</th>\n",
       "      <th>AIR_TIME</th>\n",
       "      <th>DISTANCE</th>\n",
       "    </tr>\n",
       "  </thead>\n",
       "  <tbody>\n",
       "    <tr>\n",
       "      <th>0</th>\n",
       "      <td>1</td>\n",
       "      <td>1</td>\n",
       "      <td>United Airlines</td>\n",
       "      <td>2429</td>\n",
       "      <td>Newark Liberty International Airport</td>\n",
       "      <td>Denver International Airport</td>\n",
       "      <td>1517</td>\n",
       "      <td>1512.0</td>\n",
       "      <td>-5.0</td>\n",
       "      <td>15.0</td>\n",
       "      <td>...</td>\n",
       "      <td>10.0</td>\n",
       "      <td>1745</td>\n",
       "      <td>1722.0</td>\n",
       "      <td>-23.0</td>\n",
       "      <td>0.0</td>\n",
       "      <td>0.0</td>\n",
       "      <td>268.0</td>\n",
       "      <td>250.0</td>\n",
       "      <td>225.0</td>\n",
       "      <td>1605.0</td>\n",
       "    </tr>\n",
       "    <tr>\n",
       "      <th>1</th>\n",
       "      <td>1</td>\n",
       "      <td>1</td>\n",
       "      <td>United Airlines</td>\n",
       "      <td>2427</td>\n",
       "      <td>McCarran International Airport</td>\n",
       "      <td>San Francisco International Airport</td>\n",
       "      <td>1115</td>\n",
       "      <td>1107.0</td>\n",
       "      <td>-8.0</td>\n",
       "      <td>11.0</td>\n",
       "      <td>...</td>\n",
       "      <td>7.0</td>\n",
       "      <td>1254</td>\n",
       "      <td>1230.0</td>\n",
       "      <td>-24.0</td>\n",
       "      <td>0.0</td>\n",
       "      <td>0.0</td>\n",
       "      <td>99.0</td>\n",
       "      <td>83.0</td>\n",
       "      <td>65.0</td>\n",
       "      <td>414.0</td>\n",
       "    </tr>\n",
       "    <tr>\n",
       "      <th>2</th>\n",
       "      <td>1</td>\n",
       "      <td>1</td>\n",
       "      <td>United Airlines</td>\n",
       "      <td>2426</td>\n",
       "      <td>John Wayne Airport (Orange County Airport)</td>\n",
       "      <td>Denver International Airport</td>\n",
       "      <td>1335</td>\n",
       "      <td>1330.0</td>\n",
       "      <td>-5.0</td>\n",
       "      <td>15.0</td>\n",
       "      <td>...</td>\n",
       "      <td>5.0</td>\n",
       "      <td>1649</td>\n",
       "      <td>1636.0</td>\n",
       "      <td>-13.0</td>\n",
       "      <td>0.0</td>\n",
       "      <td>0.0</td>\n",
       "      <td>134.0</td>\n",
       "      <td>126.0</td>\n",
       "      <td>106.0</td>\n",
       "      <td>846.0</td>\n",
       "    </tr>\n",
       "    <tr>\n",
       "      <th>3</th>\n",
       "      <td>1</td>\n",
       "      <td>1</td>\n",
       "      <td>United Airlines</td>\n",
       "      <td>2425</td>\n",
       "      <td>Southwest Florida International Airport</td>\n",
       "      <td>Chicago O'Hare International Airport</td>\n",
       "      <td>1546</td>\n",
       "      <td>1552.0</td>\n",
       "      <td>6.0</td>\n",
       "      <td>19.0</td>\n",
       "      <td>...</td>\n",
       "      <td>6.0</td>\n",
       "      <td>1756</td>\n",
       "      <td>1754.0</td>\n",
       "      <td>-2.0</td>\n",
       "      <td>0.0</td>\n",
       "      <td>0.0</td>\n",
       "      <td>190.0</td>\n",
       "      <td>182.0</td>\n",
       "      <td>157.0</td>\n",
       "      <td>1120.0</td>\n",
       "    </tr>\n",
       "  </tbody>\n",
       "</table>\n",
       "<p>4 rows × 22 columns</p>\n",
       "</div>"
      ],
      "text/plain": [
       "   Day  Month          Airline  OP_CARRIER_FL_NUM  \\\n",
       "0    1      1  United Airlines               2429   \n",
       "1    1      1  United Airlines               2427   \n",
       "2    1      1  United Airlines               2426   \n",
       "3    1      1  United Airlines               2425   \n",
       "\n",
       "                                       ORIGIN  \\\n",
       "0        Newark Liberty International Airport   \n",
       "1              McCarran International Airport   \n",
       "2  John Wayne Airport (Orange County Airport)   \n",
       "3     Southwest Florida International Airport   \n",
       "\n",
       "                                   DEST  CRS_DEP_TIME  DEP_TIME  DEP_DELAY  \\\n",
       "0          Denver International Airport          1517    1512.0       -5.0   \n",
       "1   San Francisco International Airport          1115    1107.0       -8.0   \n",
       "2          Denver International Airport          1335    1330.0       -5.0   \n",
       "3  Chicago O'Hare International Airport          1546    1552.0        6.0   \n",
       "\n",
       "   TAXI_OUT  ...  TAXI_IN  CRS_ARR_TIME  ARR_TIME  ARR_DELAY  CANCELLED  \\\n",
       "0      15.0  ...     10.0          1745    1722.0      -23.0        0.0   \n",
       "1      11.0  ...      7.0          1254    1230.0      -24.0        0.0   \n",
       "2      15.0  ...      5.0          1649    1636.0      -13.0        0.0   \n",
       "3      19.0  ...      6.0          1756    1754.0       -2.0        0.0   \n",
       "\n",
       "   DIVERTED  CRS_ELAPSED_TIME  ACTUAL_ELAPSED_TIME  AIR_TIME  DISTANCE  \n",
       "0       0.0             268.0                250.0     225.0    1605.0  \n",
       "1       0.0              99.0                 83.0      65.0     414.0  \n",
       "2       0.0             134.0                126.0     106.0     846.0  \n",
       "3       0.0             190.0                182.0     157.0    1120.0  \n",
       "\n",
       "[4 rows x 22 columns]"
      ]
     },
     "execution_count": 13,
     "metadata": {},
     "output_type": "execute_result"
    }
   ],
   "source": [
    "data.head(4)"
   ]
  },
  {
   "cell_type": "markdown",
   "metadata": {
    "pycharm": {
     "name": "#%% md\n"
    }
   },
   "source": [
    "    3. Feature Selection:\n",
    "        Some of the features are not relevant for predicting flight delays such as :\n",
    "            1. CANCELLED - which means that the flight has been canceled.\n",
    "            2. OP_CARRIER_FL_NUM - which represent the flight number.\n",
    "            3. DIVERTED - flight landed on different airport that the one scheduled\n",
    "\n",
    "        I have defined a delayed flight to be a flight which does not take into account features that\n",
    "        are expressed during the flight such as :\n",
    "            1. TAXI_IN - The time duration elapsed between wheels-on and gate arrival at the destination airport.\n",
    "            2. TAXI_OUT - The time duration elapsed between departure from the origin airport gate and wheels off.\n",
    "            3. WHEELS_OFF  - The time point that the aircraft's wheels leave the ground\n",
    "            4. WHEELS_ON - The time point that the aircraft'ss wheels touch on the ground."
   ]
  },
  {
   "cell_type": "code",
   "execution_count": 14,
   "metadata": {
    "pycharm": {
     "name": "#%%\n"
    }
   },
   "outputs": [],
   "source": [
    "feature_selection = ['CANCELLED' , 'OP_CARRIER_FL_NUM','DIVERTED','TAXI_IN','TAXI_OUT','WHEELS_OFF','WHEELS_ON']\n",
    "data.drop(feature_selection , inplace = True , axis = 1)"
   ]
  },
  {
   "cell_type": "code",
   "execution_count": 15,
   "metadata": {
    "pycharm": {
     "name": "#%%\n"
    }
   },
   "outputs": [],
   "source": [
    "rename_dict = {'ORIGIN' : 'Origin','DEST': 'Destination','CRS_DEP_TIME' : 'Scheduled Departure', 'DEP_TIME' : 'Departure Time',\n",
    "               'DEP_DELAY' : 'Departure Delay','CRS_ARR_TIME':'Scheduled Arrival','ARR_TIME':'Arrival Time','ARR_DELAY':'Arrival Delay',\n",
    "               'CRS_ELAPSED_TIME':'Planned Time','ACTUAL_ELAPSED_TIME':'Actual Time','AIR_TIME':'Air Time','DISTANCE':'Distance'}\n",
    "data = data.rename(columns = rename_dict)"
   ]
  },
  {
   "cell_type": "markdown",
   "metadata": {},
   "source": [
    "    Since the data set is very large (7 million records) I will only refer to Virgin America Airline, \n",
    "    And model the problem based on those flights data."
   ]
  },
  {
   "cell_type": "code",
   "execution_count": 16,
   "metadata": {},
   "outputs": [
    {
     "data": {
      "text/plain": [
       "(17153, 15)"
      ]
     },
     "execution_count": 16,
     "metadata": {},
     "output_type": "execute_result"
    }
   ],
   "source": [
    "final_data = data[data['Airline'] == 'Virgin America']\n",
    "final_data.shape"
   ]
  },
  {
   "cell_type": "markdown",
   "metadata": {
    "pycharm": {
     "name": "#%% md\n"
    }
   },
   "source": [
    "    4. Feature Engineering:\n",
    "        Binary Classification:\n",
    "        In order to prepare the data set for learning, I will create the labeling column describing a binary classification.\n",
    "        A flight that is late will be labled with 1 and a flight that arrived on time will be labled with 0.\n",
    "    "
   ]
  },
  {
   "cell_type": "code",
   "execution_count": 17,
   "metadata": {
    "pycharm": {
     "name": "#%%\n"
    }
   },
   "outputs": [],
   "source": [
    "status = []\n",
    "for value in final_data['Arrival Delay']:\n",
    "    if value <= 0:\n",
    "        status.append(0)\n",
    "    else:\n",
    "        status.append(1)\n",
    "        \n",
    "final_data.insert(15,\"Status\",status)"
   ]
  },
  {
   "cell_type": "code",
   "execution_count": 18,
   "metadata": {
    "pycharm": {
     "name": "#%%\n"
    },
    "scrolled": false
   },
   "outputs": [
    {
     "name": "stdout",
     "output_type": "stream",
     "text": [
      " delayed flights : (6338, 16) non delayed flights (10815, 16)\n"
     ]
    }
   ],
   "source": [
    "final_data['Status'].value_counts(normalize = True)\n",
    "delayed = final_data[final_data['Status'] == 1].shape\n",
    "nondelayed = final_data[final_data['Status'] == 0].shape\n",
    "print(f' delayed flights : {delayed} non delayed flights {nondelayed}')"
   ]
  },
  {
   "cell_type": "markdown",
   "metadata": {},
   "source": [
    "        As you can see  we have highly imbalanced data, as we there are only 37% rows with the value of 1.0 (Delay in flight).\n",
    "        We will drop a significant amount of rows where our target variable is 0 (No delay in flight)."
   ]
  },
  {
   "cell_type": "markdown",
   "metadata": {
    "pycharm": {
     "name": "#%% md\n"
    }
   },
   "source": [
    "### UnderSampeling\n",
    "        A common way of dealing with this issue is undersampling, which means remove observations from the majority class\n",
    "        such that the dataset will have an equal number of observations for each class."
   ]
  },
  {
   "cell_type": "code",
   "execution_count": 19,
   "metadata": {},
   "outputs": [
    {
     "data": {
      "text/plain": [
       "0    6338\n",
       "1    6338\n",
       "Name: Status, dtype: int64"
      ]
     },
     "execution_count": 19,
     "metadata": {},
     "output_type": "execute_result"
    }
   ],
   "source": [
    "nmin = final_data['Status'].value_counts().min()\n",
    "final_data = final_data.groupby('Status').apply(lambda x: x.sample(nmin)).reset_index(drop = True)\n",
    "final_data.sample(frac = 1).reset_index(drop = True)\n",
    "final_data['Status'].value_counts()"
   ]
  },
  {
   "cell_type": "code",
   "execution_count": 20,
   "metadata": {
    "scrolled": false
   },
   "outputs": [
    {
     "name": "stdout",
     "output_type": "stream",
     "text": [
      " The shape of the new dataset : (12676, 16)\n"
     ]
    },
    {
     "data": {
      "text/html": [
       "<div>\n",
       "<style scoped>\n",
       "    .dataframe tbody tr th:only-of-type {\n",
       "        vertical-align: middle;\n",
       "    }\n",
       "\n",
       "    .dataframe tbody tr th {\n",
       "        vertical-align: top;\n",
       "    }\n",
       "\n",
       "    .dataframe thead th {\n",
       "        text-align: right;\n",
       "    }\n",
       "</style>\n",
       "<table border=\"1\" class=\"dataframe\">\n",
       "  <thead>\n",
       "    <tr style=\"text-align: right;\">\n",
       "      <th></th>\n",
       "      <th>Day</th>\n",
       "      <th>Month</th>\n",
       "      <th>Airline</th>\n",
       "      <th>Origin</th>\n",
       "      <th>Destination</th>\n",
       "      <th>Scheduled Departure</th>\n",
       "      <th>Departure Time</th>\n",
       "      <th>Departure Delay</th>\n",
       "      <th>Scheduled Arrival</th>\n",
       "      <th>Arrival Time</th>\n",
       "      <th>Arrival Delay</th>\n",
       "      <th>Planned Time</th>\n",
       "      <th>Actual Time</th>\n",
       "      <th>Air Time</th>\n",
       "      <th>Distance</th>\n",
       "      <th>Status</th>\n",
       "    </tr>\n",
       "  </thead>\n",
       "  <tbody>\n",
       "    <tr>\n",
       "      <th>0</th>\n",
       "      <td>27</td>\n",
       "      <td>2</td>\n",
       "      <td>Virgin America</td>\n",
       "      <td>San Francisco International Airport</td>\n",
       "      <td>McCarran International Airport</td>\n",
       "      <td>1205</td>\n",
       "      <td>1151.0</td>\n",
       "      <td>-14.0</td>\n",
       "      <td>1336</td>\n",
       "      <td>1325.0</td>\n",
       "      <td>-11.0</td>\n",
       "      <td>91.0</td>\n",
       "      <td>94.0</td>\n",
       "      <td>72.0</td>\n",
       "      <td>414.0</td>\n",
       "      <td>0</td>\n",
       "    </tr>\n",
       "    <tr>\n",
       "      <th>1</th>\n",
       "      <td>18</td>\n",
       "      <td>2</td>\n",
       "      <td>Virgin America</td>\n",
       "      <td>McCarran International Airport</td>\n",
       "      <td>San Francisco International Airport</td>\n",
       "      <td>730</td>\n",
       "      <td>719.0</td>\n",
       "      <td>-11.0</td>\n",
       "      <td>910</td>\n",
       "      <td>855.0</td>\n",
       "      <td>-15.0</td>\n",
       "      <td>100.0</td>\n",
       "      <td>96.0</td>\n",
       "      <td>71.0</td>\n",
       "      <td>414.0</td>\n",
       "      <td>0</td>\n",
       "    </tr>\n",
       "    <tr>\n",
       "      <th>2</th>\n",
       "      <td>3</td>\n",
       "      <td>1</td>\n",
       "      <td>Virgin America</td>\n",
       "      <td>Gen. Edward Lawrence Logan International Airport</td>\n",
       "      <td>Los Angeles International Airport</td>\n",
       "      <td>900</td>\n",
       "      <td>906.0</td>\n",
       "      <td>6.0</td>\n",
       "      <td>1254</td>\n",
       "      <td>1240.0</td>\n",
       "      <td>-14.0</td>\n",
       "      <td>414.0</td>\n",
       "      <td>394.0</td>\n",
       "      <td>354.0</td>\n",
       "      <td>2611.0</td>\n",
       "      <td>0</td>\n",
       "    </tr>\n",
       "    <tr>\n",
       "      <th>3</th>\n",
       "      <td>1</td>\n",
       "      <td>3</td>\n",
       "      <td>Virgin America</td>\n",
       "      <td>San Francisco International Airport</td>\n",
       "      <td>Los Angeles International Airport</td>\n",
       "      <td>900</td>\n",
       "      <td>853.0</td>\n",
       "      <td>-7.0</td>\n",
       "      <td>1031</td>\n",
       "      <td>1030.0</td>\n",
       "      <td>-1.0</td>\n",
       "      <td>91.0</td>\n",
       "      <td>97.0</td>\n",
       "      <td>54.0</td>\n",
       "      <td>337.0</td>\n",
       "      <td>0</td>\n",
       "    </tr>\n",
       "    <tr>\n",
       "      <th>4</th>\n",
       "      <td>7</td>\n",
       "      <td>3</td>\n",
       "      <td>Virgin America</td>\n",
       "      <td>San Francisco International Airport</td>\n",
       "      <td>Indianapolis International Airport</td>\n",
       "      <td>810</td>\n",
       "      <td>800.0</td>\n",
       "      <td>-10.0</td>\n",
       "      <td>1520</td>\n",
       "      <td>1507.0</td>\n",
       "      <td>-13.0</td>\n",
       "      <td>250.0</td>\n",
       "      <td>247.0</td>\n",
       "      <td>214.0</td>\n",
       "      <td>1943.0</td>\n",
       "      <td>0</td>\n",
       "    </tr>\n",
       "  </tbody>\n",
       "</table>\n",
       "</div>"
      ],
      "text/plain": [
       "   Day  Month         Airline  \\\n",
       "0   27      2  Virgin America   \n",
       "1   18      2  Virgin America   \n",
       "2    3      1  Virgin America   \n",
       "3    1      3  Virgin America   \n",
       "4    7      3  Virgin America   \n",
       "\n",
       "                                             Origin  \\\n",
       "0               San Francisco International Airport   \n",
       "1                    McCarran International Airport   \n",
       "2  Gen. Edward Lawrence Logan International Airport   \n",
       "3               San Francisco International Airport   \n",
       "4               San Francisco International Airport   \n",
       "\n",
       "                           Destination  Scheduled Departure  Departure Time  \\\n",
       "0       McCarran International Airport                 1205          1151.0   \n",
       "1  San Francisco International Airport                  730           719.0   \n",
       "2    Los Angeles International Airport                  900           906.0   \n",
       "3    Los Angeles International Airport                  900           853.0   \n",
       "4   Indianapolis International Airport                  810           800.0   \n",
       "\n",
       "   Departure Delay  Scheduled Arrival  Arrival Time  Arrival Delay  \\\n",
       "0            -14.0               1336        1325.0          -11.0   \n",
       "1            -11.0                910         855.0          -15.0   \n",
       "2              6.0               1254        1240.0          -14.0   \n",
       "3             -7.0               1031        1030.0           -1.0   \n",
       "4            -10.0               1520        1507.0          -13.0   \n",
       "\n",
       "   Planned Time  Actual Time  Air Time  Distance  Status  \n",
       "0          91.0         94.0      72.0     414.0       0  \n",
       "1         100.0         96.0      71.0     414.0       0  \n",
       "2         414.0        394.0     354.0    2611.0       0  \n",
       "3          91.0         97.0      54.0     337.0       0  \n",
       "4         250.0        247.0     214.0    1943.0       0  "
      ]
     },
     "execution_count": 20,
     "metadata": {},
     "output_type": "execute_result"
    }
   ],
   "source": [
    "print(f' The shape of the new dataset : {final_data.shape}')\n",
    "final_data.head(5)"
   ]
  },
  {
   "cell_type": "markdown",
   "metadata": {},
   "source": [
    "    5. Searching for Multi-Collinearity :\n",
    "       Multicollinearity is a situation in which linear relationships between the explanatory variables in the sample interfere\n",
    "       with the estimation of regression.\n",
    "\n"
   ]
  },
  {
   "cell_type": "code",
   "execution_count": 21,
   "metadata": {
    "scrolled": false
   },
   "outputs": [
    {
     "data": {
      "text/plain": [
       "<AxesSubplot:>"
      ]
     },
     "execution_count": 21,
     "metadata": {},
     "output_type": "execute_result"
    },
    {
     "data": {
      "image/png": "[encoded data removed]",
      "text/plain": [
       "<Figure size 2160x1080 with 2 Axes>"
      ]
     },
     "metadata": {
      "needs_background": "light"
     },
     "output_type": "display_data"
    }
   ],
   "source": [
    "from matplotlib import rcParams\n",
    "rcParams['figure.figsize'] = 30,15\n",
    "sns.heatmap(final_data.corr())"
   ]
  },
  {
   "cell_type": "markdown",
   "metadata": {},
   "source": [
    "    As can be seen, there is a high correlation between the explanatory variables: Planned Time, and Air Time.\n",
    "    Therefore, to meet the regression assumptions we will remove these variables from the data set.\n",
    "    For the EDA part , i will not remove the explanatory variable : Arrival Time , i will remove him before modeling."
   ]
  },
  {
   "cell_type": "code",
   "execution_count": 22,
   "metadata": {},
   "outputs": [],
   "source": [
    "final_data.drop([\"Planned Time\",\"Air Time\"] , inplace = True ,axis = 1)"
   ]
  },
  {
   "cell_type": "code",
   "execution_count": 23,
   "metadata": {},
   "outputs": [],
   "source": [
    "final_data.to_csv(\"dataset.csv\" , index = False)"
   ]
  },
  {
   "cell_type": "code",
   "execution_count": 24,
   "metadata": {},
   "outputs": [
    {
     "data": {
      "text/plain": [
       "(12676, 14)"
      ]
     },
     "execution_count": 24,
     "metadata": {},
     "output_type": "execute_result"
    }
   ],
   "source": [
    "final_data.shape"
   ]
  }
 ],
 "metadata": {
  "kernelspec": {
   "display_name": "Python 3 (ipykernel)",
   "language": "python",
   "name": "python3"
  },
  "language_info": {
   "codemirror_mode": {
    "name": "ipython",
    "version": 3
   },
   "file_extension": ".py",
   "mimetype": "text/x-python",
   "name": "python",
   "nbconvert_exporter": "python",
   "pygments_lexer": "ipython3",
   "version": "3.9.5"
  }
 },
 "nbformat": 4,
 "nbformat_minor": 1
}
